{
 "cells": [
  {
   "cell_type": "code",
   "execution_count": 215,
   "id": "048084fa",
   "metadata": {
    "scrolled": false
   },
   "outputs": [
    {
     "name": "stdout",
     "output_type": "stream",
     "text": [
      "[('Answer',), ('Question',), ('Survey',)]\n",
      "Answer\n",
      "Question\n",
      "Survey\n"
     ]
    }
   ],
   "source": [
    "import sqlite3\n",
    "import pandas as pd\n",
    "\n",
    "# Create a SQL connection to our SQLite database\n",
    "db = sqlite3.connect(\"mental_health.sqlite\")\n",
    "\n",
    "# Create a cursor object\n",
    "cur = db.cursor()\n",
    "\n",
    "# Execute the query to get the list of tables\n",
    "cur.execute(\"SELECT name FROM sqlite_master WHERE type='table';\")\n",
    "\n",
    "# Fetch and display the results\n",
    "tables = cur.fetchall()\n",
    "print(tables)\n",
    "\n",
    "# Each table name is in a tuple, so access the first element\n",
    "for table in tables:\n",
    "    print(table[0])\n",
    "    \n",
    "# Close the connection\n",
    "#db.close()"
   ]
  },
  {
   "cell_type": "code",
   "execution_count": 216,
   "id": "9b7220b5",
   "metadata": {},
   "outputs": [],
   "source": [
    "pd.set_option('display.max_colwidth', None)  # Show full column width\n",
    "pd.set_option('display.expand_frame_repr', False)  # Prevent wrapping to a new line"
   ]
  },
  {
   "cell_type": "code",
   "execution_count": 217,
   "id": "789a8936",
   "metadata": {},
   "outputs": [
    {
     "data": {
      "text/html": [
       "<div>\n",
       "<style scoped>\n",
       "    .dataframe tbody tr th:only-of-type {\n",
       "        vertical-align: middle;\n",
       "    }\n",
       "\n",
       "    .dataframe tbody tr th {\n",
       "        vertical-align: top;\n",
       "    }\n",
       "\n",
       "    .dataframe thead th {\n",
       "        text-align: right;\n",
       "    }\n",
       "</style>\n",
       "<table border=\"1\" class=\"dataframe\">\n",
       "  <thead>\n",
       "    <tr style=\"text-align: right;\">\n",
       "      <th></th>\n",
       "      <th>SurveyID</th>\n",
       "    </tr>\n",
       "  </thead>\n",
       "  <tbody>\n",
       "    <tr>\n",
       "      <th>0</th>\n",
       "      <td>2014</td>\n",
       "    </tr>\n",
       "    <tr>\n",
       "      <th>1</th>\n",
       "      <td>2016</td>\n",
       "    </tr>\n",
       "    <tr>\n",
       "      <th>2</th>\n",
       "      <td>2017</td>\n",
       "    </tr>\n",
       "    <tr>\n",
       "      <th>3</th>\n",
       "      <td>2018</td>\n",
       "    </tr>\n",
       "    <tr>\n",
       "      <th>4</th>\n",
       "      <td>2019</td>\n",
       "    </tr>\n",
       "  </tbody>\n",
       "</table>\n",
       "</div>"
      ],
      "text/plain": [
       "   SurveyID\n",
       "0      2014\n",
       "1      2016\n",
       "2      2017\n",
       "3      2018\n",
       "4      2019"
      ]
     },
     "execution_count": 217,
     "metadata": {},
     "output_type": "execute_result"
    }
   ],
   "source": [
    "#This is the general construct to use SQL code in Python\n",
    "#Use the three quotation marks \"\"\" to enter SQL block text over multiple lines\n",
    "\n",
    "query = \"\"\"SELECT distinct SurveyID FROM Answer;\"\"\"\n",
    "run_sql = pd.read_sql(query, db)\n",
    "run_sql"
   ]
  },
  {
   "cell_type": "code",
   "execution_count": 218,
   "id": "c3c7cfb0",
   "metadata": {},
   "outputs": [
    {
     "data": {
      "text/html": [
       "<div>\n",
       "<style scoped>\n",
       "    .dataframe tbody tr th:only-of-type {\n",
       "        vertical-align: middle;\n",
       "    }\n",
       "\n",
       "    .dataframe tbody tr th {\n",
       "        vertical-align: top;\n",
       "    }\n",
       "\n",
       "    .dataframe thead th {\n",
       "        text-align: right;\n",
       "    }\n",
       "</style>\n",
       "<table border=\"1\" class=\"dataframe\">\n",
       "  <thead>\n",
       "    <tr style=\"text-align: right;\">\n",
       "      <th></th>\n",
       "      <th>AnswerText</th>\n",
       "      <th>SurveyID</th>\n",
       "      <th>UserID</th>\n",
       "      <th>QuestionID</th>\n",
       "    </tr>\n",
       "  </thead>\n",
       "  <tbody>\n",
       "    <tr>\n",
       "      <th>0</th>\n",
       "      <td>37</td>\n",
       "      <td>2014</td>\n",
       "      <td>1</td>\n",
       "      <td>1</td>\n",
       "    </tr>\n",
       "    <tr>\n",
       "      <th>1</th>\n",
       "      <td>44</td>\n",
       "      <td>2014</td>\n",
       "      <td>2</td>\n",
       "      <td>1</td>\n",
       "    </tr>\n",
       "    <tr>\n",
       "      <th>2</th>\n",
       "      <td>32</td>\n",
       "      <td>2014</td>\n",
       "      <td>3</td>\n",
       "      <td>1</td>\n",
       "    </tr>\n",
       "    <tr>\n",
       "      <th>3</th>\n",
       "      <td>31</td>\n",
       "      <td>2014</td>\n",
       "      <td>4</td>\n",
       "      <td>1</td>\n",
       "    </tr>\n",
       "    <tr>\n",
       "      <th>4</th>\n",
       "      <td>31</td>\n",
       "      <td>2014</td>\n",
       "      <td>5</td>\n",
       "      <td>1</td>\n",
       "    </tr>\n",
       "    <tr>\n",
       "      <th>...</th>\n",
       "      <td>...</td>\n",
       "      <td>...</td>\n",
       "      <td>...</td>\n",
       "      <td>...</td>\n",
       "    </tr>\n",
       "    <tr>\n",
       "      <th>236893</th>\n",
       "      <td>Other</td>\n",
       "      <td>2016</td>\n",
       "      <td>2689</td>\n",
       "      <td>117</td>\n",
       "    </tr>\n",
       "    <tr>\n",
       "      <th>236894</th>\n",
       "      <td>Support</td>\n",
       "      <td>2016</td>\n",
       "      <td>2690</td>\n",
       "      <td>117</td>\n",
       "    </tr>\n",
       "    <tr>\n",
       "      <th>236895</th>\n",
       "      <td>Back-end Developer</td>\n",
       "      <td>2016</td>\n",
       "      <td>2691</td>\n",
       "      <td>117</td>\n",
       "    </tr>\n",
       "    <tr>\n",
       "      <th>236896</th>\n",
       "      <td>DevOps/SysAdmin</td>\n",
       "      <td>2016</td>\n",
       "      <td>2692</td>\n",
       "      <td>117</td>\n",
       "    </tr>\n",
       "    <tr>\n",
       "      <th>236897</th>\n",
       "      <td>Other</td>\n",
       "      <td>2016</td>\n",
       "      <td>2693</td>\n",
       "      <td>117</td>\n",
       "    </tr>\n",
       "  </tbody>\n",
       "</table>\n",
       "<p>236898 rows × 4 columns</p>\n",
       "</div>"
      ],
      "text/plain": [
       "                AnswerText  SurveyID  UserID  QuestionID\n",
       "0                       37      2014       1           1\n",
       "1                       44      2014       2           1\n",
       "2                       32      2014       3           1\n",
       "3                       31      2014       4           1\n",
       "4                       31      2014       5           1\n",
       "...                    ...       ...     ...         ...\n",
       "236893               Other      2016    2689         117\n",
       "236894             Support      2016    2690         117\n",
       "236895  Back-end Developer      2016    2691         117\n",
       "236896     DevOps/SysAdmin      2016    2692         117\n",
       "236897               Other      2016    2693         117\n",
       "\n",
       "[236898 rows x 4 columns]"
      ]
     },
     "execution_count": 218,
     "metadata": {},
     "output_type": "execute_result"
    }
   ],
   "source": [
    "query = \"\"\"SELECT * FROM Answer;\"\"\"\n",
    "run_sql = pd.read_sql(query, db)\n",
    "run_sql"
   ]
  },
  {
   "cell_type": "code",
   "execution_count": 219,
   "id": "97b3e47c",
   "metadata": {},
   "outputs": [
    {
     "data": {
      "text/html": [
       "<div>\n",
       "<style scoped>\n",
       "    .dataframe tbody tr th:only-of-type {\n",
       "        vertical-align: middle;\n",
       "    }\n",
       "\n",
       "    .dataframe tbody tr th {\n",
       "        vertical-align: top;\n",
       "    }\n",
       "\n",
       "    .dataframe thead th {\n",
       "        text-align: right;\n",
       "    }\n",
       "</style>\n",
       "<table border=\"1\" class=\"dataframe\">\n",
       "  <thead>\n",
       "    <tr style=\"text-align: right;\">\n",
       "      <th></th>\n",
       "      <th>questiontext</th>\n",
       "      <th>questionid</th>\n",
       "    </tr>\n",
       "  </thead>\n",
       "  <tbody>\n",
       "    <tr>\n",
       "      <th>0</th>\n",
       "      <td>What is your age?</td>\n",
       "      <td>1</td>\n",
       "    </tr>\n",
       "    <tr>\n",
       "      <th>1</th>\n",
       "      <td>What is your gender?</td>\n",
       "      <td>2</td>\n",
       "    </tr>\n",
       "    <tr>\n",
       "      <th>2</th>\n",
       "      <td>What country do you live in?</td>\n",
       "      <td>3</td>\n",
       "    </tr>\n",
       "    <tr>\n",
       "      <th>3</th>\n",
       "      <td>If you live in the United States, which state or territory do you live in?</td>\n",
       "      <td>4</td>\n",
       "    </tr>\n",
       "    <tr>\n",
       "      <th>4</th>\n",
       "      <td>Are you self-employed?</td>\n",
       "      <td>5</td>\n",
       "    </tr>\n",
       "    <tr>\n",
       "      <th>...</th>\n",
       "      <td>...</td>\n",
       "      <td>...</td>\n",
       "    </tr>\n",
       "    <tr>\n",
       "      <th>100</th>\n",
       "      <td>Do you think that team members/co-workers would view you more negatively if they knew you suffered from a mental health issue?</td>\n",
       "      <td>114</td>\n",
       "    </tr>\n",
       "    <tr>\n",
       "      <th>101</th>\n",
       "      <td>If yes, what condition(s) have you been diagnosed with?</td>\n",
       "      <td>115</td>\n",
       "    </tr>\n",
       "    <tr>\n",
       "      <th>102</th>\n",
       "      <td>If maybe, what condition(s) do you believe you have?</td>\n",
       "      <td>116</td>\n",
       "    </tr>\n",
       "    <tr>\n",
       "      <th>103</th>\n",
       "      <td>Which of the following best describes your work position?</td>\n",
       "      <td>117</td>\n",
       "    </tr>\n",
       "    <tr>\n",
       "      <th>104</th>\n",
       "      <td>Do you work remotely?</td>\n",
       "      <td>118</td>\n",
       "    </tr>\n",
       "  </tbody>\n",
       "</table>\n",
       "<p>105 rows × 2 columns</p>\n",
       "</div>"
      ],
      "text/plain": [
       "                                                                                                                       questiontext  questionid\n",
       "0                                                                                                                 What is your age?           1\n",
       "1                                                                                                              What is your gender?           2\n",
       "2                                                                                                      What country do you live in?           3\n",
       "3                                                        If you live in the United States, which state or territory do you live in?           4\n",
       "4                                                                                                            Are you self-employed?           5\n",
       "..                                                                                                                              ...         ...\n",
       "100  Do you think that team members/co-workers would view you more negatively if they knew you suffered from a mental health issue?         114\n",
       "101                                                                         If yes, what condition(s) have you been diagnosed with?         115\n",
       "102                                                                            If maybe, what condition(s) do you believe you have?         116\n",
       "103                                                                       Which of the following best describes your work position?         117\n",
       "104                                                                                                           Do you work remotely?         118\n",
       "\n",
       "[105 rows x 2 columns]"
      ]
     },
     "execution_count": 219,
     "metadata": {},
     "output_type": "execute_result"
    }
   ],
   "source": [
    "query = \"\"\"SELECT * FROM Question;\"\"\"\n",
    "run_sql = pd.read_sql(query, db)\n",
    "run_sql"
   ]
  },
  {
   "cell_type": "code",
   "execution_count": 220,
   "id": "6060eefe",
   "metadata": {},
   "outputs": [
    {
     "data": {
      "text/html": [
       "<div>\n",
       "<style scoped>\n",
       "    .dataframe tbody tr th:only-of-type {\n",
       "        vertical-align: middle;\n",
       "    }\n",
       "\n",
       "    .dataframe tbody tr th {\n",
       "        vertical-align: top;\n",
       "    }\n",
       "\n",
       "    .dataframe thead th {\n",
       "        text-align: right;\n",
       "    }\n",
       "</style>\n",
       "<table border=\"1\" class=\"dataframe\">\n",
       "  <thead>\n",
       "    <tr style=\"text-align: right;\">\n",
       "      <th></th>\n",
       "      <th>SurveyID</th>\n",
       "      <th>Description</th>\n",
       "    </tr>\n",
       "  </thead>\n",
       "  <tbody>\n",
       "    <tr>\n",
       "      <th>0</th>\n",
       "      <td>2014</td>\n",
       "      <td>mental health survey for 2014</td>\n",
       "    </tr>\n",
       "    <tr>\n",
       "      <th>1</th>\n",
       "      <td>2016</td>\n",
       "      <td>mental health survey for 2016</td>\n",
       "    </tr>\n",
       "    <tr>\n",
       "      <th>2</th>\n",
       "      <td>2017</td>\n",
       "      <td>mental health survey for 2017</td>\n",
       "    </tr>\n",
       "    <tr>\n",
       "      <th>3</th>\n",
       "      <td>2018</td>\n",
       "      <td>mental health survey for 2018</td>\n",
       "    </tr>\n",
       "    <tr>\n",
       "      <th>4</th>\n",
       "      <td>2019</td>\n",
       "      <td>mental health survey for 2019</td>\n",
       "    </tr>\n",
       "  </tbody>\n",
       "</table>\n",
       "</div>"
      ],
      "text/plain": [
       "   SurveyID                    Description\n",
       "0      2014  mental health survey for 2014\n",
       "1      2016  mental health survey for 2016\n",
       "2      2017  mental health survey for 2017\n",
       "3      2018  mental health survey for 2018\n",
       "4      2019  mental health survey for 2019"
      ]
     },
     "execution_count": 220,
     "metadata": {},
     "output_type": "execute_result"
    }
   ],
   "source": [
    "query = \"\"\"SELECT * FROM Survey;\"\"\"\n",
    "run_sql = pd.read_sql(query, db)\n",
    "run_sql"
   ]
  },
  {
   "cell_type": "code",
   "execution_count": 221,
   "id": "536b0fb4",
   "metadata": {},
   "outputs": [
    {
     "data": {
      "text/html": [
       "<div>\n",
       "<style scoped>\n",
       "    .dataframe tbody tr th:only-of-type {\n",
       "        vertical-align: middle;\n",
       "    }\n",
       "\n",
       "    .dataframe tbody tr th {\n",
       "        vertical-align: top;\n",
       "    }\n",
       "\n",
       "    .dataframe thead th {\n",
       "        text-align: right;\n",
       "    }\n",
       "</style>\n",
       "<table border=\"1\" class=\"dataframe\">\n",
       "  <thead>\n",
       "    <tr style=\"text-align: right;\">\n",
       "      <th></th>\n",
       "      <th>UserID</th>\n",
       "    </tr>\n",
       "  </thead>\n",
       "  <tbody>\n",
       "    <tr>\n",
       "      <th>0</th>\n",
       "      <td>1</td>\n",
       "    </tr>\n",
       "    <tr>\n",
       "      <th>1</th>\n",
       "      <td>2</td>\n",
       "    </tr>\n",
       "    <tr>\n",
       "      <th>2</th>\n",
       "      <td>3</td>\n",
       "    </tr>\n",
       "    <tr>\n",
       "      <th>3</th>\n",
       "      <td>4</td>\n",
       "    </tr>\n",
       "    <tr>\n",
       "      <th>4</th>\n",
       "      <td>5</td>\n",
       "    </tr>\n",
       "    <tr>\n",
       "      <th>...</th>\n",
       "      <td>...</td>\n",
       "    </tr>\n",
       "    <tr>\n",
       "      <th>4213</th>\n",
       "      <td>4214</td>\n",
       "    </tr>\n",
       "    <tr>\n",
       "      <th>4214</th>\n",
       "      <td>4215</td>\n",
       "    </tr>\n",
       "    <tr>\n",
       "      <th>4215</th>\n",
       "      <td>4216</td>\n",
       "    </tr>\n",
       "    <tr>\n",
       "      <th>4216</th>\n",
       "      <td>4217</td>\n",
       "    </tr>\n",
       "    <tr>\n",
       "      <th>4217</th>\n",
       "      <td>4218</td>\n",
       "    </tr>\n",
       "  </tbody>\n",
       "</table>\n",
       "<p>4218 rows × 1 columns</p>\n",
       "</div>"
      ],
      "text/plain": [
       "      UserID\n",
       "0          1\n",
       "1          2\n",
       "2          3\n",
       "3          4\n",
       "4          5\n",
       "...      ...\n",
       "4213    4214\n",
       "4214    4215\n",
       "4215    4216\n",
       "4216    4217\n",
       "4217    4218\n",
       "\n",
       "[4218 rows x 1 columns]"
      ]
     },
     "execution_count": 221,
     "metadata": {},
     "output_type": "execute_result"
    }
   ],
   "source": [
    "query = \"\"\"SELECT DISTINCT UserID FROM Answer;\"\"\"\n",
    "run_sql = pd.read_sql(query, db)\n",
    "run_sql"
   ]
  },
  {
   "cell_type": "markdown",
   "id": "d517428a",
   "metadata": {},
   "source": [
    "## Numbers of people completed survey in each year from 2014-19."
   ]
  },
  {
   "cell_type": "code",
   "execution_count": 222,
   "id": "354143d2",
   "metadata": {},
   "outputs": [
    {
     "data": {
      "text/html": [
       "<div>\n",
       "<style scoped>\n",
       "    .dataframe tbody tr th:only-of-type {\n",
       "        vertical-align: middle;\n",
       "    }\n",
       "\n",
       "    .dataframe tbody tr th {\n",
       "        vertical-align: top;\n",
       "    }\n",
       "\n",
       "    .dataframe thead th {\n",
       "        text-align: right;\n",
       "    }\n",
       "</style>\n",
       "<table border=\"1\" class=\"dataframe\">\n",
       "  <thead>\n",
       "    <tr style=\"text-align: right;\">\n",
       "      <th></th>\n",
       "      <th>Year</th>\n",
       "      <th>People Took Survey</th>\n",
       "    </tr>\n",
       "  </thead>\n",
       "  <tbody>\n",
       "    <tr>\n",
       "      <th>0</th>\n",
       "      <td>2014</td>\n",
       "      <td>1260</td>\n",
       "    </tr>\n",
       "    <tr>\n",
       "      <th>1</th>\n",
       "      <td>2016</td>\n",
       "      <td>1433</td>\n",
       "    </tr>\n",
       "    <tr>\n",
       "      <th>2</th>\n",
       "      <td>2017</td>\n",
       "      <td>756</td>\n",
       "    </tr>\n",
       "    <tr>\n",
       "      <th>3</th>\n",
       "      <td>2018</td>\n",
       "      <td>417</td>\n",
       "    </tr>\n",
       "    <tr>\n",
       "      <th>4</th>\n",
       "      <td>2019</td>\n",
       "      <td>352</td>\n",
       "    </tr>\n",
       "  </tbody>\n",
       "</table>\n",
       "</div>"
      ],
      "text/plain": [
       "   Year  People Took Survey\n",
       "0  2014                1260\n",
       "1  2016                1433\n",
       "2  2017                 756\n",
       "3  2018                 417\n",
       "4  2019                 352"
      ]
     },
     "execution_count": 222,
     "metadata": {},
     "output_type": "execute_result"
    }
   ],
   "source": [
    "query = \"\"\"SELECT SurveyID AS Year, COUNT(DISTINCT UserID) AS [People Took Survey] FROM Answer GROUP BY SurveyID ORDER BY SurveyID ASC;\"\"\"\n",
    "year_people = pd.read_sql(query, db)\n",
    "year_people"
   ]
  },
  {
   "cell_type": "markdown",
   "id": "a6714f5b",
   "metadata": {},
   "source": [
    "Acccording to the result, in 2016 the most number of people took the mental health survey that is 1,260.\n",
    "And in 2019, the least number of people took the survet that is 352."
   ]
  },
  {
   "cell_type": "code",
   "execution_count": 223,
   "id": "1e18af9c",
   "metadata": {},
   "outputs": [],
   "source": [
    "import matplotlib.pyplot as plt\n",
    "import numpy as np\n",
    "%matplotlib inline"
   ]
  },
  {
   "cell_type": "code",
   "execution_count": 224,
   "id": "1ab94301",
   "metadata": {},
   "outputs": [
    {
     "data": {
      "text/plain": [
       "Text(0.5, 1.0, 'Number of people who took survey from 2014-2019')"
      ]
     },
     "execution_count": 224,
     "metadata": {},
     "output_type": "execute_result"
    },
    {
     "data": {
      "image/png": "[encoded data removed]",
      "text/plain": [
       "<Figure size 432x288 with 1 Axes>"
      ]
     },
     "metadata": {
      "needs_background": "light"
     },
     "output_type": "display_data"
    }
   ],
   "source": [
    "year = year_people['Year']\n",
    "people = year_people['People Took Survey']\n",
    "plt.bar(year, people, color='g', edgecolor='k')\n",
    "plt.xlabel(\"Year\")\n",
    "plt.ylabel('People Took Survey')\n",
    "plt.title(\"Number of people who took survey from 2014-2019\")"
   ]
  },
  {
   "cell_type": "markdown",
   "id": "ae5c6e01",
   "metadata": {},
   "source": [
    "As we can see there is no bar in the year of 2015. That means the survey didn't happened that year."
   ]
  },
  {
   "cell_type": "markdown",
   "id": "671466ce",
   "metadata": {},
   "source": [
    "## How many questions were there for each year?"
   ]
  },
  {
   "cell_type": "code",
   "execution_count": 225,
   "id": "64d893b2",
   "metadata": {},
   "outputs": [
    {
     "data": {
      "text/html": [
       "<div>\n",
       "<style scoped>\n",
       "    .dataframe tbody tr th:only-of-type {\n",
       "        vertical-align: middle;\n",
       "    }\n",
       "\n",
       "    .dataframe tbody tr th {\n",
       "        vertical-align: top;\n",
       "    }\n",
       "\n",
       "    .dataframe thead th {\n",
       "        text-align: right;\n",
       "    }\n",
       "</style>\n",
       "<table border=\"1\" class=\"dataframe\">\n",
       "  <thead>\n",
       "    <tr style=\"text-align: right;\">\n",
       "      <th></th>\n",
       "      <th>Year</th>\n",
       "      <th>Total Questions</th>\n",
       "    </tr>\n",
       "  </thead>\n",
       "  <tbody>\n",
       "    <tr>\n",
       "      <th>0</th>\n",
       "      <td>2014</td>\n",
       "      <td>26</td>\n",
       "    </tr>\n",
       "    <tr>\n",
       "      <th>1</th>\n",
       "      <td>2016</td>\n",
       "      <td>60</td>\n",
       "    </tr>\n",
       "    <tr>\n",
       "      <th>2</th>\n",
       "      <td>2017</td>\n",
       "      <td>76</td>\n",
       "    </tr>\n",
       "    <tr>\n",
       "      <th>3</th>\n",
       "      <td>2018</td>\n",
       "      <td>76</td>\n",
       "    </tr>\n",
       "    <tr>\n",
       "      <th>4</th>\n",
       "      <td>2019</td>\n",
       "      <td>76</td>\n",
       "    </tr>\n",
       "  </tbody>\n",
       "</table>\n",
       "</div>"
      ],
      "text/plain": [
       "   Year  Total Questions\n",
       "0  2014               26\n",
       "1  2016               60\n",
       "2  2017               76\n",
       "3  2018               76\n",
       "4  2019               76"
      ]
     },
     "execution_count": 225,
     "metadata": {},
     "output_type": "execute_result"
    }
   ],
   "source": [
    "query = \"\"\"SELECT SurveyID AS Year, COUNT(DISTINCT QuestionID) AS [Total Questions] FROM Answer GROUP BY SurveyID ORDER BY SurveyID ASC;\"\"\"\n",
    "year_ques = pd.read_sql(query, db)\n",
    "year_ques"
   ]
  },
  {
   "cell_type": "code",
   "execution_count": 226,
   "id": "6d6aca90",
   "metadata": {},
   "outputs": [
    {
     "data": {
      "text/plain": [
       "Text(0.5, 1.0, 'Total number of questions in each survey')"
      ]
     },
     "execution_count": 226,
     "metadata": {},
     "output_type": "execute_result"
    },
    {
     "data": {
      "image/png": "[encoded data removed]",
      "text/plain": [
       "<Figure size 432x288 with 1 Axes>"
      ]
     },
     "metadata": {
      "needs_background": "light"
     },
     "output_type": "display_data"
    }
   ],
   "source": [
    "year = year_ques['Year']\n",
    "question = year_ques['Total Questions']\n",
    "plt.plot(year, question, color='y', linewidth=2, linestyle='-', markerfacecolor='r', marker='o')\n",
    "plt.xlabel(\"Year\")\n",
    "plt.ylabel('Total Number of Questions')\n",
    "plt.title(\"Total number of questions in each survey\")"
   ]
  },
  {
   "cell_type": "markdown",
   "id": "c5be6593",
   "metadata": {},
   "source": [
    "## Questions completed by each user in a year."
   ]
  },
  {
   "cell_type": "code",
   "execution_count": 227,
   "id": "701b1f12",
   "metadata": {},
   "outputs": [
    {
     "data": {
      "text/html": [
       "<div>\n",
       "<style scoped>\n",
       "    .dataframe tbody tr th:only-of-type {\n",
       "        vertical-align: middle;\n",
       "    }\n",
       "\n",
       "    .dataframe tbody tr th {\n",
       "        vertical-align: top;\n",
       "    }\n",
       "\n",
       "    .dataframe thead th {\n",
       "        text-align: right;\n",
       "    }\n",
       "</style>\n",
       "<table border=\"1\" class=\"dataframe\">\n",
       "  <thead>\n",
       "    <tr style=\"text-align: right;\">\n",
       "      <th></th>\n",
       "      <th>Year</th>\n",
       "      <th>UserID</th>\n",
       "      <th>Questions Completed</th>\n",
       "    </tr>\n",
       "  </thead>\n",
       "  <tbody>\n",
       "    <tr>\n",
       "      <th>0</th>\n",
       "      <td>2014</td>\n",
       "      <td>1</td>\n",
       "      <td>26</td>\n",
       "    </tr>\n",
       "    <tr>\n",
       "      <th>1</th>\n",
       "      <td>2014</td>\n",
       "      <td>2</td>\n",
       "      <td>26</td>\n",
       "    </tr>\n",
       "    <tr>\n",
       "      <th>2</th>\n",
       "      <td>2014</td>\n",
       "      <td>3</td>\n",
       "      <td>26</td>\n",
       "    </tr>\n",
       "    <tr>\n",
       "      <th>3</th>\n",
       "      <td>2014</td>\n",
       "      <td>4</td>\n",
       "      <td>26</td>\n",
       "    </tr>\n",
       "    <tr>\n",
       "      <th>4</th>\n",
       "      <td>2014</td>\n",
       "      <td>5</td>\n",
       "      <td>26</td>\n",
       "    </tr>\n",
       "    <tr>\n",
       "      <th>...</th>\n",
       "      <td>...</td>\n",
       "      <td>...</td>\n",
       "      <td>...</td>\n",
       "    </tr>\n",
       "    <tr>\n",
       "      <th>4213</th>\n",
       "      <td>2019</td>\n",
       "      <td>4214</td>\n",
       "      <td>76</td>\n",
       "    </tr>\n",
       "    <tr>\n",
       "      <th>4214</th>\n",
       "      <td>2019</td>\n",
       "      <td>4215</td>\n",
       "      <td>76</td>\n",
       "    </tr>\n",
       "    <tr>\n",
       "      <th>4215</th>\n",
       "      <td>2019</td>\n",
       "      <td>4216</td>\n",
       "      <td>76</td>\n",
       "    </tr>\n",
       "    <tr>\n",
       "      <th>4216</th>\n",
       "      <td>2019</td>\n",
       "      <td>4217</td>\n",
       "      <td>76</td>\n",
       "    </tr>\n",
       "    <tr>\n",
       "      <th>4217</th>\n",
       "      <td>2019</td>\n",
       "      <td>4218</td>\n",
       "      <td>76</td>\n",
       "    </tr>\n",
       "  </tbody>\n",
       "</table>\n",
       "<p>4218 rows × 3 columns</p>\n",
       "</div>"
      ],
      "text/plain": [
       "      Year  UserID  Questions Completed\n",
       "0     2014       1                   26\n",
       "1     2014       2                   26\n",
       "2     2014       3                   26\n",
       "3     2014       4                   26\n",
       "4     2014       5                   26\n",
       "...    ...     ...                  ...\n",
       "4213  2019    4214                   76\n",
       "4214  2019    4215                   76\n",
       "4215  2019    4216                   76\n",
       "4216  2019    4217                   76\n",
       "4217  2019    4218                   76\n",
       "\n",
       "[4218 rows x 3 columns]"
      ]
     },
     "execution_count": 227,
     "metadata": {},
     "output_type": "execute_result"
    }
   ],
   "source": [
    "query = \"\"\"SELECT SurveyID AS Year, UserId, COUNT(QuestionID) AS [Questions Completed] FROM Answer GROUP BY UserID;\"\"\"\n",
    "ques_complete = pd.read_sql(query, db)\n",
    "ques_complete"
   ]
  },
  {
   "cell_type": "code",
   "execution_count": 228,
   "id": "f602fb7b",
   "metadata": {},
   "outputs": [
    {
     "data": {
      "image/png": "[encoded data removed]",
      "text/plain": [
       "<Figure size 1080x576 with 5 Axes>"
      ]
     },
     "metadata": {
      "needs_background": "light"
     },
     "output_type": "display_data"
    }
   ],
   "source": [
    "fig, axes = plt.subplots(2, 3, figsize=(15, 8))\n",
    "axes = axes.flatten()\n",
    "i=0\n",
    "j=0\n",
    "year = year_ques['Year'] #Fetching the years fro a previous query as that have distincts year\n",
    "for idx, x in enumerate(year):\n",
    "    query =\"\"\"SELECT UserId, COUNT(QuestionID) FROM Answer WHERE SurveyID=? GROUP BY UserID;\"\"\"\n",
    "    ques_complete_aux = pd.read_sql(query, db, params=(x,))\n",
    "    user = ques_complete_aux['UserID']\n",
    "    tot = ques_complete_aux['COUNT(QuestionID)']\n",
    "    axes[idx].plot(user, tot, 'r')\n",
    "    axes[idx].set_title(f\"Year: {x}\")\n",
    "    axes[idx].set_xlabel(\"UserID\")\n",
    "    axes[idx].set_ylabel('Total Questions')\n",
    "    if idx >= len(axes) - 1:\n",
    "        break\n",
    "    #plt.title(\"Number of people who took survey from 2014-2019\")\n",
    "plt.tight_layout()\n",
    "axes[5].remove()"
   ]
  },
  {
   "cell_type": "markdown",
   "id": "09bf50c1",
   "metadata": {},
   "source": [
    "in 2014, 2017, 2018, 2019 each user who took the survey attended every questions. But in 2016, every user did not answer every question. "
   ]
  },
  {
   "cell_type": "markdown",
   "id": "2021a6fa",
   "metadata": {},
   "source": [
    "## Analysing the survey of 2016"
   ]
  },
  {
   "cell_type": "code",
   "execution_count": 229,
   "id": "950262c0",
   "metadata": {},
   "outputs": [
    {
     "data": {
      "text/html": [
       "<div>\n",
       "<style scoped>\n",
       "    .dataframe tbody tr th:only-of-type {\n",
       "        vertical-align: middle;\n",
       "    }\n",
       "\n",
       "    .dataframe tbody tr th {\n",
       "        vertical-align: top;\n",
       "    }\n",
       "\n",
       "    .dataframe thead th {\n",
       "        text-align: right;\n",
       "    }\n",
       "</style>\n",
       "<table border=\"1\" class=\"dataframe\">\n",
       "  <thead>\n",
       "    <tr style=\"text-align: right;\">\n",
       "      <th></th>\n",
       "      <th>UserID</th>\n",
       "      <th>Questions_Attended</th>\n",
       "    </tr>\n",
       "  </thead>\n",
       "  <tbody>\n",
       "    <tr>\n",
       "      <th>0</th>\n",
       "      <td>1261</td>\n",
       "      <td>60</td>\n",
       "    </tr>\n",
       "    <tr>\n",
       "      <th>1</th>\n",
       "      <td>1262</td>\n",
       "      <td>62</td>\n",
       "    </tr>\n",
       "    <tr>\n",
       "      <th>2</th>\n",
       "      <td>1263</td>\n",
       "      <td>60</td>\n",
       "    </tr>\n",
       "    <tr>\n",
       "      <th>3</th>\n",
       "      <td>1264</td>\n",
       "      <td>61</td>\n",
       "    </tr>\n",
       "    <tr>\n",
       "      <th>4</th>\n",
       "      <td>1265</td>\n",
       "      <td>67</td>\n",
       "    </tr>\n",
       "    <tr>\n",
       "      <th>...</th>\n",
       "      <td>...</td>\n",
       "      <td>...</td>\n",
       "    </tr>\n",
       "    <tr>\n",
       "      <th>1428</th>\n",
       "      <td>2689</td>\n",
       "      <td>60</td>\n",
       "    </tr>\n",
       "    <tr>\n",
       "      <th>1429</th>\n",
       "      <td>2690</td>\n",
       "      <td>60</td>\n",
       "    </tr>\n",
       "    <tr>\n",
       "      <th>1430</th>\n",
       "      <td>2691</td>\n",
       "      <td>61</td>\n",
       "    </tr>\n",
       "    <tr>\n",
       "      <th>1431</th>\n",
       "      <td>2692</td>\n",
       "      <td>62</td>\n",
       "    </tr>\n",
       "    <tr>\n",
       "      <th>1432</th>\n",
       "      <td>2693</td>\n",
       "      <td>63</td>\n",
       "    </tr>\n",
       "  </tbody>\n",
       "</table>\n",
       "<p>1433 rows × 2 columns</p>\n",
       "</div>"
      ],
      "text/plain": [
       "      UserID  Questions_Attended\n",
       "0       1261                  60\n",
       "1       1262                  62\n",
       "2       1263                  60\n",
       "3       1264                  61\n",
       "4       1265                  67\n",
       "...      ...                 ...\n",
       "1428    2689                  60\n",
       "1429    2690                  60\n",
       "1430    2691                  61\n",
       "1431    2692                  62\n",
       "1432    2693                  63\n",
       "\n",
       "[1433 rows x 2 columns]"
      ]
     },
     "execution_count": 229,
     "metadata": {},
     "output_type": "execute_result"
    }
   ],
   "source": [
    "query =\"\"\"SELECT UserId, COUNT(QuestionID) As Questions_Attended FROM Answer WHERE SurveyID=2016 GROUP BY UserID;\"\"\"\n",
    "year_2016 = pd.read_sql(query, db)\n",
    "year_2016"
   ]
  },
  {
   "cell_type": "code",
   "execution_count": 230,
   "id": "23f858e1",
   "metadata": {},
   "outputs": [
    {
     "data": {
      "image/png": "[encoded data removed]",
      "text/plain": [
       "<Figure size 1800x432 with 1 Axes>"
      ]
     },
     "metadata": {
      "needs_background": "light"
     },
     "output_type": "display_data"
    }
   ],
   "source": [
    "plt.figure(figsize=(25, 6))\n",
    "plt.scatter(year_2016['UserID'], year_2016['Questions_Attended'], alpha=0.5)\n",
    "plt.title('Scatter Plot of UserID vs Questions attended')\n",
    "plt.xlabel('UserID')\n",
    "plt.ylabel('Questions Attended')\n",
    "plt.grid()\n",
    "plt.show()"
   ]
  },
  {
   "cell_type": "code",
   "execution_count": 231,
   "id": "4d259223",
   "metadata": {},
   "outputs": [
    {
     "data": {
      "text/html": [
       "<div>\n",
       "<style scoped>\n",
       "    .dataframe tbody tr th:only-of-type {\n",
       "        vertical-align: middle;\n",
       "    }\n",
       "\n",
       "    .dataframe tbody tr th {\n",
       "        vertical-align: top;\n",
       "    }\n",
       "\n",
       "    .dataframe thead th {\n",
       "        text-align: right;\n",
       "    }\n",
       "</style>\n",
       "<table border=\"1\" class=\"dataframe\">\n",
       "  <thead>\n",
       "    <tr style=\"text-align: right;\">\n",
       "      <th></th>\n",
       "      <th>UserId</th>\n",
       "      <th>Max_Questions_Attended</th>\n",
       "    </tr>\n",
       "  </thead>\n",
       "  <tbody>\n",
       "    <tr>\n",
       "      <th>0</th>\n",
       "      <td>1838</td>\n",
       "      <td>74</td>\n",
       "    </tr>\n",
       "  </tbody>\n",
       "</table>\n",
       "</div>"
      ],
      "text/plain": [
       "   UserId  Max_Questions_Attended\n",
       "0    1838                      74"
      ]
     },
     "execution_count": 231,
     "metadata": {},
     "output_type": "execute_result"
    }
   ],
   "source": [
    "query =\"\"\"SELECT UserId, MAX(Questions_Attended) AS Max_Questions_Attended\n",
    "FROM (\n",
    "    SELECT UserId, COUNT(QuestionID) AS Questions_Attended\n",
    "    FROM Answer\n",
    "    WHERE SurveyID=2016\n",
    "    GROUP BY UserId\n",
    ") AS UserQuestions;\"\"\"\n",
    "year_2016_max = pd.read_sql(query, db)\n",
    "year_2016_max"
   ]
  },
  {
   "cell_type": "code",
   "execution_count": 232,
   "id": "17fa70fe",
   "metadata": {},
   "outputs": [
    {
     "data": {
      "text/html": [
       "<div>\n",
       "<style scoped>\n",
       "    .dataframe tbody tr th:only-of-type {\n",
       "        vertical-align: middle;\n",
       "    }\n",
       "\n",
       "    .dataframe tbody tr th {\n",
       "        vertical-align: top;\n",
       "    }\n",
       "\n",
       "    .dataframe thead th {\n",
       "        text-align: right;\n",
       "    }\n",
       "</style>\n",
       "<table border=\"1\" class=\"dataframe\">\n",
       "  <thead>\n",
       "    <tr style=\"text-align: right;\">\n",
       "      <th></th>\n",
       "      <th>UserId</th>\n",
       "      <th>Min_Questions_Attended</th>\n",
       "    </tr>\n",
       "  </thead>\n",
       "  <tbody>\n",
       "    <tr>\n",
       "      <th>0</th>\n",
       "      <td>1261</td>\n",
       "      <td>60</td>\n",
       "    </tr>\n",
       "  </tbody>\n",
       "</table>\n",
       "</div>"
      ],
      "text/plain": [
       "   UserId  Min_Questions_Attended\n",
       "0    1261                      60"
      ]
     },
     "execution_count": 232,
     "metadata": {},
     "output_type": "execute_result"
    }
   ],
   "source": [
    "query =\"\"\"SELECT UserId, MIN(Questions_Attended) AS Min_Questions_Attended\n",
    "FROM (\n",
    "    SELECT UserId, COUNT(QuestionID) AS Questions_Attended\n",
    "    FROM Answer\n",
    "    WHERE SurveyID=2016\n",
    "    GROUP BY UserId\n",
    ") AS UserQuestions;\"\"\"\n",
    "year_2016_min = pd.read_sql(query, db)\n",
    "year_2016_min"
   ]
  },
  {
   "cell_type": "markdown",
   "id": "a3fe65ed",
   "metadata": {},
   "source": [
    "So, maximum questions was attended by UserUd 1838 which is 74 and userId bearing 1261 answered least questions, 60."
   ]
  },
  {
   "cell_type": "code",
   "execution_count": 233,
   "id": "7cc96b46",
   "metadata": {},
   "outputs": [
    {
     "data": {
      "text/html": [
       "<div>\n",
       "<style scoped>\n",
       "    .dataframe tbody tr th:only-of-type {\n",
       "        vertical-align: middle;\n",
       "    }\n",
       "\n",
       "    .dataframe tbody tr th {\n",
       "        vertical-align: top;\n",
       "    }\n",
       "\n",
       "    .dataframe thead th {\n",
       "        text-align: right;\n",
       "    }\n",
       "</style>\n",
       "<table border=\"1\" class=\"dataframe\">\n",
       "  <thead>\n",
       "    <tr style=\"text-align: right;\">\n",
       "      <th></th>\n",
       "      <th>UserID</th>\n",
       "    </tr>\n",
       "  </thead>\n",
       "  <tbody>\n",
       "    <tr>\n",
       "      <th>0</th>\n",
       "      <td>1261</td>\n",
       "    </tr>\n",
       "    <tr>\n",
       "      <th>1</th>\n",
       "      <td>1263</td>\n",
       "    </tr>\n",
       "    <tr>\n",
       "      <th>2</th>\n",
       "      <td>1267</td>\n",
       "    </tr>\n",
       "    <tr>\n",
       "      <th>3</th>\n",
       "      <td>1271</td>\n",
       "    </tr>\n",
       "    <tr>\n",
       "      <th>4</th>\n",
       "      <td>1272</td>\n",
       "    </tr>\n",
       "    <tr>\n",
       "      <th>...</th>\n",
       "      <td>...</td>\n",
       "    </tr>\n",
       "    <tr>\n",
       "      <th>504</th>\n",
       "      <td>2683</td>\n",
       "    </tr>\n",
       "    <tr>\n",
       "      <th>505</th>\n",
       "      <td>2684</td>\n",
       "    </tr>\n",
       "    <tr>\n",
       "      <th>506</th>\n",
       "      <td>2687</td>\n",
       "    </tr>\n",
       "    <tr>\n",
       "      <th>507</th>\n",
       "      <td>2689</td>\n",
       "    </tr>\n",
       "    <tr>\n",
       "      <th>508</th>\n",
       "      <td>2690</td>\n",
       "    </tr>\n",
       "  </tbody>\n",
       "</table>\n",
       "<p>509 rows × 1 columns</p>\n",
       "</div>"
      ],
      "text/plain": [
       "     UserID\n",
       "0      1261\n",
       "1      1263\n",
       "2      1267\n",
       "3      1271\n",
       "4      1272\n",
       "..      ...\n",
       "504    2683\n",
       "505    2684\n",
       "506    2687\n",
       "507    2689\n",
       "508    2690\n",
       "\n",
       "[509 rows x 1 columns]"
      ]
     },
     "execution_count": 233,
     "metadata": {},
     "output_type": "execute_result"
    }
   ],
   "source": [
    "query = \"\"\"SELECT UserID FROM Answer GROUP BY UserID HAVING COUNT(QuestionID) = 60;\"\"\"\n",
    "xyz = pd.read_sql(query, db)\n",
    "xyz"
   ]
  },
  {
   "cell_type": "markdown",
   "id": "d0fc113a",
   "metadata": {},
   "source": [
    "These are the users who gave the minimum number of answers in the survey. So there are 509 people who answered only 60 questions. And according to the graph only one user attended 74 questions."
   ]
  },
  {
   "cell_type": "code",
   "execution_count": 234,
   "id": "7a7d255c",
   "metadata": {},
   "outputs": [
    {
     "data": {
      "text/html": [
       "<div>\n",
       "<style scoped>\n",
       "    .dataframe tbody tr th:only-of-type {\n",
       "        vertical-align: middle;\n",
       "    }\n",
       "\n",
       "    .dataframe tbody tr th {\n",
       "        vertical-align: top;\n",
       "    }\n",
       "\n",
       "    .dataframe thead th {\n",
       "        text-align: right;\n",
       "    }\n",
       "</style>\n",
       "<table border=\"1\" class=\"dataframe\">\n",
       "  <thead>\n",
       "    <tr style=\"text-align: right;\">\n",
       "      <th></th>\n",
       "      <th>QuestionID</th>\n",
       "      <th>questiontext</th>\n",
       "    </tr>\n",
       "  </thead>\n",
       "  <tbody>\n",
       "    <tr>\n",
       "      <th>0</th>\n",
       "      <td>1</td>\n",
       "      <td>What is your age?</td>\n",
       "    </tr>\n",
       "    <tr>\n",
       "      <th>1</th>\n",
       "      <td>2</td>\n",
       "      <td>What is your gender?</td>\n",
       "    </tr>\n",
       "    <tr>\n",
       "      <th>2</th>\n",
       "      <td>3</td>\n",
       "      <td>What country do you live in?</td>\n",
       "    </tr>\n",
       "    <tr>\n",
       "      <th>3</th>\n",
       "      <td>4</td>\n",
       "      <td>If you live in the United States, which state or territory do you live in?</td>\n",
       "    </tr>\n",
       "    <tr>\n",
       "      <th>4</th>\n",
       "      <td>5</td>\n",
       "      <td>Are you self-employed?</td>\n",
       "    </tr>\n",
       "    <tr>\n",
       "      <th>...</th>\n",
       "      <td>...</td>\n",
       "      <td>...</td>\n",
       "    </tr>\n",
       "    <tr>\n",
       "      <th>69</th>\n",
       "      <td>117</td>\n",
       "      <td>Which of the following best describes your work position?</td>\n",
       "    </tr>\n",
       "    <tr>\n",
       "      <th>70</th>\n",
       "      <td>117</td>\n",
       "      <td>Which of the following best describes your work position?</td>\n",
       "    </tr>\n",
       "    <tr>\n",
       "      <th>71</th>\n",
       "      <td>117</td>\n",
       "      <td>Which of the following best describes your work position?</td>\n",
       "    </tr>\n",
       "    <tr>\n",
       "      <th>72</th>\n",
       "      <td>117</td>\n",
       "      <td>Which of the following best describes your work position?</td>\n",
       "    </tr>\n",
       "    <tr>\n",
       "      <th>73</th>\n",
       "      <td>117</td>\n",
       "      <td>Which of the following best describes your work position?</td>\n",
       "    </tr>\n",
       "  </tbody>\n",
       "</table>\n",
       "<p>74 rows × 2 columns</p>\n",
       "</div>"
      ],
      "text/plain": [
       "    QuestionID                                                                questiontext\n",
       "0            1                                                           What is your age?\n",
       "1            2                                                        What is your gender?\n",
       "2            3                                                What country do you live in?\n",
       "3            4  If you live in the United States, which state or territory do you live in?\n",
       "4            5                                                      Are you self-employed?\n",
       "..         ...                                                                         ...\n",
       "69         117                   Which of the following best describes your work position?\n",
       "70         117                   Which of the following best describes your work position?\n",
       "71         117                   Which of the following best describes your work position?\n",
       "72         117                   Which of the following best describes your work position?\n",
       "73         117                   Which of the following best describes your work position?\n",
       "\n",
       "[74 rows x 2 columns]"
      ]
     },
     "execution_count": 234,
     "metadata": {},
     "output_type": "execute_result"
    }
   ],
   "source": [
    "query = \"\"\"SELECT a.QuestionID, q.questiontext FROM Answer as a JOIN Question as q ON a.QuestionID=q.questionid where UserID=1838\"\"\"\n",
    "ques_all = pd.read_sql(query, db)\n",
    "ques_all"
   ]
  },
  {
   "cell_type": "markdown",
   "id": "4992ba90",
   "metadata": {},
   "source": [
    "According to our previous analysis we know that in year 2016 only 60 questions were asked. Now the userId 1838 has answere 74 questions which leads us to this query which shows that he had answered similar questions several time. Eg, question number 117, he/she had answered the question 5 times. "
   ]
  },
  {
   "cell_type": "markdown",
   "id": "1bc7a958",
   "metadata": {},
   "source": [
    "## Questions asked in each survey"
   ]
  },
  {
   "cell_type": "code",
   "execution_count": 235,
   "id": "624b1974",
   "metadata": {},
   "outputs": [
    {
     "data": {
      "text/html": [
       "<div>\n",
       "<style scoped>\n",
       "    .dataframe tbody tr th:only-of-type {\n",
       "        vertical-align: middle;\n",
       "    }\n",
       "\n",
       "    .dataframe tbody tr th {\n",
       "        vertical-align: top;\n",
       "    }\n",
       "\n",
       "    .dataframe thead th {\n",
       "        text-align: right;\n",
       "    }\n",
       "</style>\n",
       "<table border=\"1\" class=\"dataframe\">\n",
       "  <thead>\n",
       "    <tr style=\"text-align: right;\">\n",
       "      <th></th>\n",
       "      <th>QuestionID</th>\n",
       "      <th>questiontext</th>\n",
       "    </tr>\n",
       "  </thead>\n",
       "  <tbody>\n",
       "    <tr>\n",
       "      <th>0</th>\n",
       "      <td>1</td>\n",
       "      <td>What is your age?</td>\n",
       "    </tr>\n",
       "    <tr>\n",
       "      <th>1</th>\n",
       "      <td>2</td>\n",
       "      <td>What is your gender?</td>\n",
       "    </tr>\n",
       "    <tr>\n",
       "      <th>2</th>\n",
       "      <td>3</td>\n",
       "      <td>What country do you live in?</td>\n",
       "    </tr>\n",
       "    <tr>\n",
       "      <th>3</th>\n",
       "      <td>4</td>\n",
       "      <td>If you live in the United States, which state or territory do you live in?</td>\n",
       "    </tr>\n",
       "    <tr>\n",
       "      <th>4</th>\n",
       "      <td>5</td>\n",
       "      <td>Are you self-employed?</td>\n",
       "    </tr>\n",
       "    <tr>\n",
       "      <th>...</th>\n",
       "      <td>...</td>\n",
       "      <td>...</td>\n",
       "    </tr>\n",
       "    <tr>\n",
       "      <th>100</th>\n",
       "      <td>88</td>\n",
       "      <td>Would you be willing to talk to one of us more extensively about your experiences with mental health issues in the tech industry? (Note that all interview responses would be used _anonymously_ and only with your permission.)</td>\n",
       "    </tr>\n",
       "    <tr>\n",
       "      <th>101</th>\n",
       "      <td>89</td>\n",
       "      <td>What is your race?</td>\n",
       "    </tr>\n",
       "    <tr>\n",
       "      <th>102</th>\n",
       "      <td>115</td>\n",
       "      <td>If yes, what condition(s) have you been diagnosed with?</td>\n",
       "    </tr>\n",
       "    <tr>\n",
       "      <th>103</th>\n",
       "      <td>116</td>\n",
       "      <td>If maybe, what condition(s) do you believe you have?</td>\n",
       "    </tr>\n",
       "    <tr>\n",
       "      <th>104</th>\n",
       "      <td>117</td>\n",
       "      <td>Which of the following best describes your work position?</td>\n",
       "    </tr>\n",
       "  </tbody>\n",
       "</table>\n",
       "<p>105 rows × 2 columns</p>\n",
       "</div>"
      ],
      "text/plain": [
       "     QuestionID                                                                                                                                                                                                                      questiontext\n",
       "0             1                                                                                                                                                                                                                 What is your age?\n",
       "1             2                                                                                                                                                                                                              What is your gender?\n",
       "2             3                                                                                                                                                                                                      What country do you live in?\n",
       "3             4                                                                                                                                                        If you live in the United States, which state or territory do you live in?\n",
       "4             5                                                                                                                                                                                                            Are you self-employed?\n",
       "..          ...                                                                                                                                                                                                                               ...\n",
       "100          88  Would you be willing to talk to one of us more extensively about your experiences with mental health issues in the tech industry? (Note that all interview responses would be used _anonymously_ and only with your permission.)\n",
       "101          89                                                                                                                                                                                                                What is your race?\n",
       "102         115                                                                                                                                                                           If yes, what condition(s) have you been diagnosed with?\n",
       "103         116                                                                                                                                                                              If maybe, what condition(s) do you believe you have?\n",
       "104         117                                                                                                                                                                         Which of the following best describes your work position?\n",
       "\n",
       "[105 rows x 2 columns]"
      ]
     },
     "execution_count": 235,
     "metadata": {},
     "output_type": "execute_result"
    }
   ],
   "source": [
    "query = \"\"\"SELECT DISTINCT a.QuestionID, q.questiontext FROM Answer as a JOIN Question as q ON a.QuestionID=q.questionid\"\"\"\n",
    "ques_all = pd.read_sql(query, db)\n",
    "ques_all"
   ]
  },
  {
   "cell_type": "markdown",
   "id": "d4a5984d",
   "metadata": {},
   "source": [
    "So, in 5 years in total of 105 questions were asked."
   ]
  },
  {
   "cell_type": "code",
   "execution_count": 236,
   "id": "adf79d02",
   "metadata": {},
   "outputs": [
    {
     "data": {
      "text/html": [
       "<div>\n",
       "<style scoped>\n",
       "    .dataframe tbody tr th:only-of-type {\n",
       "        vertical-align: middle;\n",
       "    }\n",
       "\n",
       "    .dataframe tbody tr th {\n",
       "        vertical-align: top;\n",
       "    }\n",
       "\n",
       "    .dataframe thead th {\n",
       "        text-align: right;\n",
       "    }\n",
       "</style>\n",
       "<table border=\"1\" class=\"dataframe\">\n",
       "  <thead>\n",
       "    <tr style=\"text-align: right;\">\n",
       "      <th></th>\n",
       "      <th>QuestionID</th>\n",
       "      <th>questiontext</th>\n",
       "    </tr>\n",
       "  </thead>\n",
       "  <tbody>\n",
       "    <tr>\n",
       "      <th>0</th>\n",
       "      <td>92</td>\n",
       "      <td>If you have a mental health condition, do you feel that it interferes with your work?</td>\n",
       "    </tr>\n",
       "    <tr>\n",
       "      <th>1</th>\n",
       "      <td>93</td>\n",
       "      <td>Do you work remotely (outside of an office) at least 50% of the time?</td>\n",
       "    </tr>\n",
       "    <tr>\n",
       "      <th>2</th>\n",
       "      <td>94</td>\n",
       "      <td>Do you know the options for mental health care your employer provides?</td>\n",
       "    </tr>\n",
       "    <tr>\n",
       "      <th>3</th>\n",
       "      <td>95</td>\n",
       "      <td>Has your employer ever discussed mental health as part of an employee wellness program?</td>\n",
       "    </tr>\n",
       "    <tr>\n",
       "      <th>4</th>\n",
       "      <td>96</td>\n",
       "      <td>Does your employer provide resources to learn more about mental health issues and how to seek help?</td>\n",
       "    </tr>\n",
       "    <tr>\n",
       "      <th>5</th>\n",
       "      <td>97</td>\n",
       "      <td>How easy is it for you to take medical leave for a mental health condition?</td>\n",
       "    </tr>\n",
       "    <tr>\n",
       "      <th>6</th>\n",
       "      <td>98</td>\n",
       "      <td>Do you think that discussing a mental health issue with your employer would have negative consequences?</td>\n",
       "    </tr>\n",
       "    <tr>\n",
       "      <th>7</th>\n",
       "      <td>99</td>\n",
       "      <td>Would you be willing to discuss a mental health issue with your coworkers?</td>\n",
       "    </tr>\n",
       "    <tr>\n",
       "      <th>8</th>\n",
       "      <td>100</td>\n",
       "      <td>Would you be willing to discuss a mental health issue with your direct supervisor(s)?</td>\n",
       "    </tr>\n",
       "    <tr>\n",
       "      <th>9</th>\n",
       "      <td>101</td>\n",
       "      <td>Would you bring up a physical health issue with a potential employer in an interview?</td>\n",
       "    </tr>\n",
       "    <tr>\n",
       "      <th>10</th>\n",
       "      <td>102</td>\n",
       "      <td>Have you heard of or observed negative consequences for coworkers with mental health conditions in your workplace?</td>\n",
       "    </tr>\n",
       "    <tr>\n",
       "      <th>11</th>\n",
       "      <td>103</td>\n",
       "      <td>Any additional notes or comments</td>\n",
       "    </tr>\n",
       "  </tbody>\n",
       "</table>\n",
       "</div>"
      ],
      "text/plain": [
       "    QuestionID                                                                                                        questiontext\n",
       "0           92                               If you have a mental health condition, do you feel that it interferes with your work?\n",
       "1           93                                               Do you work remotely (outside of an office) at least 50% of the time?\n",
       "2           94                                              Do you know the options for mental health care your employer provides?\n",
       "3           95                             Has your employer ever discussed mental health as part of an employee wellness program?\n",
       "4           96                 Does your employer provide resources to learn more about mental health issues and how to seek help?\n",
       "5           97                                         How easy is it for you to take medical leave for a mental health condition?\n",
       "6           98             Do you think that discussing a mental health issue with your employer would have negative consequences?\n",
       "7           99                                          Would you be willing to discuss a mental health issue with your coworkers?\n",
       "8          100                               Would you be willing to discuss a mental health issue with your direct supervisor(s)?\n",
       "9          101                               Would you bring up a physical health issue with a potential employer in an interview?\n",
       "10         102  Have you heard of or observed negative consequences for coworkers with mental health conditions in your workplace?\n",
       "11         103                                                                                    Any additional notes or comments"
      ]
     },
     "execution_count": 236,
     "metadata": {},
     "output_type": "execute_result"
    }
   ],
   "source": [
    "query=\"\"\"\n",
    "WITH aux as(SELECT QuestionID, COUNT(QuestionID) AS c FROM Answer GROUP BY QuestionID)\n",
    "SELECT x.QuestionID, q.questiontext FROM aux AS x JOIN Question as q ON x.QuestionId=q.questionid WHERE x.c = (SELECT MIN(c) FROM aux);\n",
    "\"\"\"\n",
    "ques_min = pd.read_sql(query, db)\n",
    "ques_min"
   ]
  },
  {
   "cell_type": "markdown",
   "id": "45b0bdc5",
   "metadata": {},
   "source": [
    "These are the least answered questions."
   ]
  },
  {
   "cell_type": "markdown",
   "id": "9ae5f320",
   "metadata": {},
   "source": [
    "## Age group of people who took survey"
   ]
  },
  {
   "cell_type": "code",
   "execution_count": 237,
   "id": "034306de",
   "metadata": {},
   "outputs": [
    {
     "data": {
      "text/html": [
       "<div>\n",
       "<style scoped>\n",
       "    .dataframe tbody tr th:only-of-type {\n",
       "        vertical-align: middle;\n",
       "    }\n",
       "\n",
       "    .dataframe tbody tr th {\n",
       "        vertical-align: top;\n",
       "    }\n",
       "\n",
       "    .dataframe thead th {\n",
       "        text-align: right;\n",
       "    }\n",
       "</style>\n",
       "<table border=\"1\" class=\"dataframe\">\n",
       "  <thead>\n",
       "    <tr style=\"text-align: right;\">\n",
       "      <th></th>\n",
       "      <th>age</th>\n",
       "      <th>counts</th>\n",
       "    </tr>\n",
       "  </thead>\n",
       "  <tbody>\n",
       "    <tr>\n",
       "      <th>0</th>\n",
       "      <td>-1</td>\n",
       "      <td>5</td>\n",
       "    </tr>\n",
       "    <tr>\n",
       "      <th>1</th>\n",
       "      <td>-29</td>\n",
       "      <td>1</td>\n",
       "    </tr>\n",
       "    <tr>\n",
       "      <th>2</th>\n",
       "      <td>0</td>\n",
       "      <td>1</td>\n",
       "    </tr>\n",
       "    <tr>\n",
       "      <th>3</th>\n",
       "      <td>11</td>\n",
       "      <td>1</td>\n",
       "    </tr>\n",
       "    <tr>\n",
       "      <th>4</th>\n",
       "      <td>15</td>\n",
       "      <td>1</td>\n",
       "    </tr>\n",
       "    <tr>\n",
       "      <th>...</th>\n",
       "      <td>...</td>\n",
       "      <td>...</td>\n",
       "    </tr>\n",
       "    <tr>\n",
       "      <th>60</th>\n",
       "      <td>70</td>\n",
       "      <td>1</td>\n",
       "    </tr>\n",
       "    <tr>\n",
       "      <th>61</th>\n",
       "      <td>72</td>\n",
       "      <td>1</td>\n",
       "    </tr>\n",
       "    <tr>\n",
       "      <th>62</th>\n",
       "      <td>74</td>\n",
       "      <td>1</td>\n",
       "    </tr>\n",
       "    <tr>\n",
       "      <th>63</th>\n",
       "      <td>8</td>\n",
       "      <td>1</td>\n",
       "    </tr>\n",
       "    <tr>\n",
       "      <th>64</th>\n",
       "      <td>99</td>\n",
       "      <td>1</td>\n",
       "    </tr>\n",
       "  </tbody>\n",
       "</table>\n",
       "<p>65 rows × 2 columns</p>\n",
       "</div>"
      ],
      "text/plain": [
       "    age  counts\n",
       "0    -1       5\n",
       "1   -29       1\n",
       "2     0       1\n",
       "3    11       1\n",
       "4    15       1\n",
       "..  ...     ...\n",
       "60   70       1\n",
       "61   72       1\n",
       "62   74       1\n",
       "63    8       1\n",
       "64   99       1\n",
       "\n",
       "[65 rows x 2 columns]"
      ]
     },
     "execution_count": 237,
     "metadata": {},
     "output_type": "execute_result"
    }
   ],
   "source": [
    "query = \"\"\"SELECT CAST(Answertext AS INTEGER) as age, COUNT(Answertext) AS counts FROM Answer WHERE QuestionId=1 GROUP BY Answertext\"\"\"\n",
    "age = pd.read_sql(query, db)\n",
    "age"
   ]
  },
  {
   "cell_type": "code",
   "execution_count": 238,
   "id": "e4e89e7f",
   "metadata": {},
   "outputs": [
    {
     "ename": "KeyError",
     "evalue": "'Age Group'",
     "output_type": "error",
     "traceback": [
      "\u001b[1;31m---------------------------------------------------------------------------\u001b[0m",
      "\u001b[1;31mKeyError\u001b[0m                                  Traceback (most recent call last)",
      "File \u001b[1;32m~\\anaconda3\\lib\\site-packages\\pandas\\core\\indexes\\base.py:3800\u001b[0m, in \u001b[0;36mIndex.get_loc\u001b[1;34m(self, key, method, tolerance)\u001b[0m\n\u001b[0;32m   3799\u001b[0m \u001b[38;5;28;01mtry\u001b[39;00m:\n\u001b[1;32m-> 3800\u001b[0m     \u001b[38;5;28;01mreturn\u001b[39;00m \u001b[38;5;28;43mself\u001b[39;49m\u001b[38;5;241;43m.\u001b[39;49m\u001b[43m_engine\u001b[49m\u001b[38;5;241;43m.\u001b[39;49m\u001b[43mget_loc\u001b[49m\u001b[43m(\u001b[49m\u001b[43mcasted_key\u001b[49m\u001b[43m)\u001b[49m\n\u001b[0;32m   3801\u001b[0m \u001b[38;5;28;01mexcept\u001b[39;00m \u001b[38;5;167;01mKeyError\u001b[39;00m \u001b[38;5;28;01mas\u001b[39;00m err:\n",
      "File \u001b[1;32m~\\anaconda3\\lib\\site-packages\\pandas\\_libs\\index.pyx:138\u001b[0m, in \u001b[0;36mpandas._libs.index.IndexEngine.get_loc\u001b[1;34m()\u001b[0m\n",
      "File \u001b[1;32m~\\anaconda3\\lib\\site-packages\\pandas\\_libs\\index.pyx:165\u001b[0m, in \u001b[0;36mpandas._libs.index.IndexEngine.get_loc\u001b[1;34m()\u001b[0m\n",
      "File \u001b[1;32mpandas\\_libs\\hashtable_class_helper.pxi:5745\u001b[0m, in \u001b[0;36mpandas._libs.hashtable.PyObjectHashTable.get_item\u001b[1;34m()\u001b[0m\n",
      "File \u001b[1;32mpandas\\_libs\\hashtable_class_helper.pxi:5753\u001b[0m, in \u001b[0;36mpandas._libs.hashtable.PyObjectHashTable.get_item\u001b[1;34m()\u001b[0m\n",
      "\u001b[1;31mKeyError\u001b[0m: 'Age Group'",
      "\nThe above exception was the direct cause of the following exception:\n",
      "\u001b[1;31mKeyError\u001b[0m                                  Traceback (most recent call last)",
      "Input \u001b[1;32mIn [238]\u001b[0m, in \u001b[0;36m<cell line: 4>\u001b[1;34m()\u001b[0m\n\u001b[0;32m      2\u001b[0m labels \u001b[38;5;241m=\u001b[39m [\u001b[38;5;124m'\u001b[39m\u001b[38;5;124m0-10\u001b[39m\u001b[38;5;124m'\u001b[39m, \u001b[38;5;124m'\u001b[39m\u001b[38;5;124m11-20\u001b[39m\u001b[38;5;124m'\u001b[39m, \u001b[38;5;124m'\u001b[39m\u001b[38;5;124m21-30\u001b[39m\u001b[38;5;124m'\u001b[39m, \u001b[38;5;124m'\u001b[39m\u001b[38;5;124m31-40\u001b[39m\u001b[38;5;124m'\u001b[39m, \u001b[38;5;124m'\u001b[39m\u001b[38;5;124m41-50\u001b[39m\u001b[38;5;124m'\u001b[39m, \u001b[38;5;124m'\u001b[39m\u001b[38;5;124m51-60\u001b[39m\u001b[38;5;124m'\u001b[39m, \u001b[38;5;124m'\u001b[39m\u001b[38;5;124m61-70\u001b[39m\u001b[38;5;124m'\u001b[39m, \u001b[38;5;124m'\u001b[39m\u001b[38;5;124m71-80\u001b[39m\u001b[38;5;124m'\u001b[39m, \u001b[38;5;124m'\u001b[39m\u001b[38;5;124m81-90\u001b[39m\u001b[38;5;124m'\u001b[39m, \u001b[38;5;124m'\u001b[39m\u001b[38;5;124m91-100\u001b[39m\u001b[38;5;124m'\u001b[39m]\n\u001b[0;32m      3\u001b[0m age[\u001b[38;5;124m'\u001b[39m\u001b[38;5;124mAge_Group\u001b[39m\u001b[38;5;124m'\u001b[39m] \u001b[38;5;241m=\u001b[39m pd\u001b[38;5;241m.\u001b[39mcut(age[\u001b[38;5;124m'\u001b[39m\u001b[38;5;124mage\u001b[39m\u001b[38;5;124m'\u001b[39m], bins\u001b[38;5;241m=\u001b[39mbins, labels\u001b[38;5;241m=\u001b[39mlabels, right\u001b[38;5;241m=\u001b[39m\u001b[38;5;28;01mFalse\u001b[39;00m)\n\u001b[1;32m----> 4\u001b[0m age_group_counts \u001b[38;5;241m=\u001b[39m \u001b[43mage\u001b[49m\u001b[43m[\u001b[49m\u001b[38;5;124;43m'\u001b[39;49m\u001b[38;5;124;43mAge Group\u001b[39;49m\u001b[38;5;124;43m'\u001b[39;49m\u001b[43m]\u001b[49m\u001b[38;5;241m.\u001b[39mvalue_counts()\u001b[38;5;241m.\u001b[39msort_index()\n",
      "File \u001b[1;32m~\\anaconda3\\lib\\site-packages\\pandas\\core\\frame.py:3805\u001b[0m, in \u001b[0;36mDataFrame.__getitem__\u001b[1;34m(self, key)\u001b[0m\n\u001b[0;32m   3803\u001b[0m \u001b[38;5;28;01mif\u001b[39;00m \u001b[38;5;28mself\u001b[39m\u001b[38;5;241m.\u001b[39mcolumns\u001b[38;5;241m.\u001b[39mnlevels \u001b[38;5;241m>\u001b[39m \u001b[38;5;241m1\u001b[39m:\n\u001b[0;32m   3804\u001b[0m     \u001b[38;5;28;01mreturn\u001b[39;00m \u001b[38;5;28mself\u001b[39m\u001b[38;5;241m.\u001b[39m_getitem_multilevel(key)\n\u001b[1;32m-> 3805\u001b[0m indexer \u001b[38;5;241m=\u001b[39m \u001b[38;5;28;43mself\u001b[39;49m\u001b[38;5;241;43m.\u001b[39;49m\u001b[43mcolumns\u001b[49m\u001b[38;5;241;43m.\u001b[39;49m\u001b[43mget_loc\u001b[49m\u001b[43m(\u001b[49m\u001b[43mkey\u001b[49m\u001b[43m)\u001b[49m\n\u001b[0;32m   3806\u001b[0m \u001b[38;5;28;01mif\u001b[39;00m is_integer(indexer):\n\u001b[0;32m   3807\u001b[0m     indexer \u001b[38;5;241m=\u001b[39m [indexer]\n",
      "File \u001b[1;32m~\\anaconda3\\lib\\site-packages\\pandas\\core\\indexes\\base.py:3802\u001b[0m, in \u001b[0;36mIndex.get_loc\u001b[1;34m(self, key, method, tolerance)\u001b[0m\n\u001b[0;32m   3800\u001b[0m     \u001b[38;5;28;01mreturn\u001b[39;00m \u001b[38;5;28mself\u001b[39m\u001b[38;5;241m.\u001b[39m_engine\u001b[38;5;241m.\u001b[39mget_loc(casted_key)\n\u001b[0;32m   3801\u001b[0m \u001b[38;5;28;01mexcept\u001b[39;00m \u001b[38;5;167;01mKeyError\u001b[39;00m \u001b[38;5;28;01mas\u001b[39;00m err:\n\u001b[1;32m-> 3802\u001b[0m     \u001b[38;5;28;01mraise\u001b[39;00m \u001b[38;5;167;01mKeyError\u001b[39;00m(key) \u001b[38;5;28;01mfrom\u001b[39;00m \u001b[38;5;21;01merr\u001b[39;00m\n\u001b[0;32m   3803\u001b[0m \u001b[38;5;28;01mexcept\u001b[39;00m \u001b[38;5;167;01mTypeError\u001b[39;00m:\n\u001b[0;32m   3804\u001b[0m     \u001b[38;5;66;03m# If we have a listlike key, _check_indexing_error will raise\u001b[39;00m\n\u001b[0;32m   3805\u001b[0m     \u001b[38;5;66;03m#  InvalidIndexError. Otherwise we fall through and re-raise\u001b[39;00m\n\u001b[0;32m   3806\u001b[0m     \u001b[38;5;66;03m#  the TypeError.\u001b[39;00m\n\u001b[0;32m   3807\u001b[0m     \u001b[38;5;28mself\u001b[39m\u001b[38;5;241m.\u001b[39m_check_indexing_error(key)\n",
      "\u001b[1;31mKeyError\u001b[0m: 'Age Group'"
     ]
    }
   ],
   "source": [
    "bins = [0, 11, 21, 31, 41, 51, 61, 71, 81, 91, 100]\n",
    "labels = ['0-10', '11-20', '21-30', '31-40', '41-50', '51-60', '61-70', '71-80', '81-90', '91-100']\n",
    "age['Age_Group'] = pd.cut(age['age'], bins=bins, labels=labels, right=False)\n",
    "age_group_counts = age['Age Group'].value_counts().sort_index()"
   ]
  },
  {
   "cell_type": "code",
   "execution_count": null,
   "id": "01cf09d4",
   "metadata": {},
   "outputs": [],
   "source": [
    "Age_Group = age['Age_Group']\n",
    "plt.figure(figsize=(10, 6))\n",
    "wedges, texts, autotexts=plt.pie(age_group_counts, autopct='%1.1f%%', startangle=140)\n",
    "plt.legend(wedges, labels, title=\"Categories\", loc=\"center left\", bbox_to_anchor=(1, 0, 0.5, 1))\n",
    "\n",
    "# Title and formatting\n",
    "plt.title('Distribution of Age Groups')\n",
    "plt.axis('equal')  # Equal aspect ratio ensures that pie is drawn as a circle.\n",
    "\n",
    "# Show the plot\n",
    "plt.show()"
   ]
  },
  {
   "cell_type": "markdown",
   "id": "41b17194",
   "metadata": {},
   "source": [
    "## How many people of each gender completed the survey for each year?"
   ]
  },
  {
   "cell_type": "code",
   "execution_count": null,
   "id": "bf9b2429",
   "metadata": {},
   "outputs": [],
   "source": [
    "query = \"\"\"SELECT SurveyID,\n",
    "AnswerText as gender,\n",
    "count(distinct UserID) as responses\n",
    "FROM Answer\n",
    "WHERE QuestionID = 2\n",
    "GROUP BY SurveyID, AnswerText;\"\"\"\n",
    "gender = pd.read_sql(query, db)\n",
    "gender"
   ]
  },
  {
   "cell_type": "markdown",
   "id": "e39974a5",
   "metadata": {},
   "source": [
    "## How many people of each gender completed the survey for each year?"
   ]
  },
  {
   "cell_type": "code",
   "execution_count": null,
   "id": "69d8bada",
   "metadata": {},
   "outputs": [],
   "source": [
    "query = \"\"\"SELECT SurveyID AS year,\n",
    "AnswerText as country,\n",
    "count(distinct UserID) as responses\n",
    "FROM Answer\n",
    "WHERE QuestionID = 3\n",
    "GROUP BY SurveyID, AnswerText ORDER BY responses DESC;\"\"\"\n",
    "country = pd.read_sql(query, db)\n",
    "country.head(20)"
   ]
  },
  {
   "cell_type": "markdown",
   "id": "6fe2edd6",
   "metadata": {},
   "source": [
    "So, United states of america, United Kingdom, Canada has the most number of people who took the survey in 5 years."
   ]
  },
  {
   "cell_type": "code",
   "execution_count": null,
   "id": "467404ed",
   "metadata": {},
   "outputs": [],
   "source": [
    "cases=[]\n",
    "cor_year=[]\n",
    "for index, row in country.iterrows():\n",
    "    if row['country'] in ['United States of America', 'United States']:\n",
    "        cases.append(row['responses'])\n",
    "        cor_year.append(row['year'])"
   ]
  },
  {
   "cell_type": "code",
   "execution_count": null,
   "id": "48b075d5",
   "metadata": {},
   "outputs": [],
   "source": [
    "plt.bar(cor_year, cases, color='k')\n",
    "plt.xlabel(\"Year\")\n",
    "plt.ylabel('Total Number of Cases')\n",
    "plt.title(\"Survey in USA\")"
   ]
  },
  {
   "cell_type": "code",
   "execution_count": null,
   "id": "db9bffbb",
   "metadata": {},
   "outputs": [],
   "source": [
    "cases=[]\n",
    "cor_year=[]\n",
    "for index, row in country.iterrows():\n",
    "    if row['country'] in ['United Kingdom']:\n",
    "        cases.append(row['responses'])\n",
    "        cor_year.append(row['year'])\n",
    "plt.bar(cor_year, cases, color='k')\n",
    "plt.xlabel(\"Year\")\n",
    "plt.ylabel('Total Number of Cases')\n",
    "plt.title(\"Survey in UK\")"
   ]
  },
  {
   "cell_type": "code",
   "execution_count": null,
   "id": "5917fc32",
   "metadata": {},
   "outputs": [],
   "source": [
    "cases=[]\n",
    "cor_year=[]\n",
    "for index, row in country.iterrows():\n",
    "    if row['country'] in ['Canada']:\n",
    "        cases.append(row['responses'])\n",
    "        cor_year.append(row['year'])\n",
    "plt.bar(cor_year, cases, color='k')\n",
    "plt.xlabel(\"Year\")\n",
    "plt.ylabel('Total Number of Cases')\n",
    "plt.title(\"Survey in Canada\")"
   ]
  },
  {
   "cell_type": "code",
   "execution_count": null,
   "id": "e342fffb",
   "metadata": {},
   "outputs": [],
   "source": [
    "cases=[]\n",
    "cor_year=[]\n",
    "for index, row in country.iterrows():\n",
    "    if row['country'] in ['Germany']:\n",
    "        cases.append(row['responses'])\n",
    "        cor_year.append(row['year'])\n",
    "plt.bar(cor_year, cases, color='k')\n",
    "plt.xlabel(\"Year\")\n",
    "plt.ylabel('Total Number of Cases')\n",
    "plt.title(\"Survey in Germany\")"
   ]
  },
  {
   "cell_type": "code",
   "execution_count": null,
   "id": "96f403c4",
   "metadata": {},
   "outputs": [],
   "source": [
    "cases=[]\n",
    "cor_year=[]\n",
    "for index, row in country.iterrows():\n",
    "    if row['country'] in ['Australia']:\n",
    "        cases.append(row['responses'])\n",
    "        cor_year.append(row['year'])\n",
    "plt.bar(cor_year, cases, color='k')\n",
    "plt.xlabel(\"Year\")\n",
    "plt.ylabel('Total Number of Cases')\n",
    "plt.title(\"Survey in Australia\")"
   ]
  },
  {
   "cell_type": "markdown",
   "id": "f400cf31",
   "metadata": {},
   "source": [
    "## Mental Illness based on which country they work"
   ]
  },
  {
   "cell_type": "code",
   "execution_count": null,
   "id": "77b33749",
   "metadata": {},
   "outputs": [],
   "source": [
    "query = \"\"\"SELECT SurveyID AS year,\n",
    "AnswerText as country,\n",
    "count(distinct UserID) as responses\n",
    "FROM Answer\n",
    "WHERE QuestionID = 50\n",
    "GROUP BY SurveyID, AnswerText ORDER BY responses DESC;\"\"\"\n",
    "work_country = pd.read_sql(query, db)\n",
    "work_country.head(20)"
   ]
  },
  {
   "cell_type": "markdown",
   "id": "e1f61802",
   "metadata": {},
   "source": [
    "People who work in United States of America tend to suffer from metal illness more compared to other countries."
   ]
  },
  {
   "cell_type": "markdown",
   "id": "0dadd4f2",
   "metadata": {},
   "source": [
    "## Is mental illness genetic?"
   ]
  },
  {
   "cell_type": "code",
   "execution_count": null,
   "id": "154f6f69",
   "metadata": {},
   "outputs": [],
   "source": [
    "query = \"\"\"\n",
    "SELECT\n",
    "AnswerText as response,\n",
    "count(distinct UserID) as counts\n",
    "FROM Answer\n",
    "WHERE QuestionID = 6\n",
    "GROUP BY AnswerText ORDER BY counts DESC;\"\"\"\n",
    "gen = pd.read_sql(query, db)\n",
    "gen"
   ]
  },
  {
   "cell_type": "code",
   "execution_count": null,
   "id": "e99eb648",
   "metadata": {},
   "outputs": [],
   "source": [
    "#counts=gen[counts]\n",
    "#response=gen[response]\n",
    "plt.figure(figsize=(10, 6))\n",
    "plt.pie(gen['counts'], labels=gen['response'], autopct='%1.1f%%', startangle=140)\n",
    "# Title and formatting\n",
    "plt.title('Is mental illness genetic?')\n",
    "plt.axis('equal')  # Equal aspect ratio ensures that pie is drawn as a circle.\n",
    "\n",
    "# Show the plot\n",
    "plt.show()"
   ]
  },
  {
   "cell_type": "markdown",
   "id": "3bc0ffe5",
   "metadata": {},
   "source": [
    "## Negative consequences of discussing of mental health condition"
   ]
  },
  {
   "cell_type": "code",
   "execution_count": null,
   "id": "2515b238",
   "metadata": {},
   "outputs": [],
   "source": [
    "query = \"\"\"\n",
    "SELECT\n",
    "AnswerText as response,\n",
    "count(distinct UserID) as counts\n",
    "FROM Answer\n",
    "WHERE QuestionID = 104\n",
    "GROUP BY AnswerText ORDER BY counts DESC;\"\"\"\n",
    "gen = pd.read_sql(query, db)\n",
    "gen"
   ]
  },
  {
   "cell_type": "markdown",
   "id": "27aa991d",
   "metadata": {},
   "source": [
    "There are 221 people who feel that discussing about their mental health condition will have some negative consequences, it can be in workplaces, in friendsgroup, in home. And also there are 487 people who don't know what will happen if they discuss about their mental health condition."
   ]
  },
  {
   "cell_type": "code",
   "execution_count": 240,
   "id": "e46fbc60",
   "metadata": {},
   "outputs": [
    {
     "data": {
      "text/plain": [
       "<function Connection.close>"
      ]
     },
     "execution_count": 240,
     "metadata": {},
     "output_type": "execute_result"
    }
   ],
   "source": [
    "db.close"
   ]
  }
 ],
 "metadata": {
  "kernelspec": {
   "display_name": "Python 3 (ipykernel)",
   "language": "python",
   "name": "python3"
  },
  "language_info": {
   "codemirror_mode": {
    "name": "ipython",
    "version": 3
   },
   "file_extension": ".py",
   "mimetype": "text/x-python",
   "name": "python",
   "nbconvert_exporter": "python",
   "pygments_lexer": "ipython3",
   "version": "3.9.12"
  }
 },
 "nbformat": 4,
 "nbformat_minor": 5
}
